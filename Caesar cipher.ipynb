{
 "cells": [
  {
   "cell_type": "markdown",
   "source": [
    "Caesar Cipher\r\n",
    "%%yaml INPUTS\r\n",
    "values:\r\n",
    "    type: string\r\n",
    "    min_length:1\r\n",
    "    restrictions:alpha\r\n",
    "    description: lowercase string that is going to be encoded\r\n",
    "        \r\n",
    "shift input:\r\n",
    "    type: integer\r\n",
    "    description: integer that determines the shift amount for encoding\r\n",
    "\r\n",
    "array:\r\n",
    "    type: integer\r\n",
    "    description: list of integer values separated by spaces for array\r\n"
   ],
   "metadata": {}
  },
  {
   "cell_type": "code",
   "execution_count": 2,
   "source": [
    "#imports\r\n",
    "from simtool import findInstalledSimToolNotebooks,searchForSimTool\r\n",
    "from simtool import getSimToolInputs,getSimToolOutputs,Run\r\n",
    "\r\n",
    "import numpy as np\r\n",
    "from array import array\r\n",
    "import binascii\r\n",
    "import turtle"
   ],
   "outputs": [
    {
     "output_type": "error",
     "ename": "ImportError",
     "evalue": "cannot import name 'findInstalledSimToolNotebooks' from 'simtool' (unknown location)",
     "traceback": [
      "\u001b[1;31m---------------------------------------------------------------------------\u001b[0m",
      "\u001b[1;31mImportError\u001b[0m                               Traceback (most recent call last)",
      "\u001b[1;32m~\\AppData\\Local\\Temp/ipykernel_29380/3619754335.py\u001b[0m in \u001b[0;36m<module>\u001b[1;34m\u001b[0m\n\u001b[0;32m      1\u001b[0m \u001b[1;31m#imports\u001b[0m\u001b[1;33m\u001b[0m\u001b[1;33m\u001b[0m\u001b[0m\n\u001b[1;32m----> 2\u001b[1;33m \u001b[1;32mfrom\u001b[0m \u001b[0msimtool\u001b[0m \u001b[1;32mimport\u001b[0m \u001b[0mfindInstalledSimToolNotebooks\u001b[0m\u001b[1;33m,\u001b[0m\u001b[0msearchForSimTool\u001b[0m\u001b[1;33m\u001b[0m\u001b[1;33m\u001b[0m\u001b[0m\n\u001b[0m\u001b[0;32m      3\u001b[0m \u001b[1;32mfrom\u001b[0m \u001b[0msimtool\u001b[0m \u001b[1;32mimport\u001b[0m \u001b[0mgetSimToolInputs\u001b[0m\u001b[1;33m,\u001b[0m\u001b[0mgetSimToolOutputs\u001b[0m\u001b[1;33m,\u001b[0m\u001b[0mRun\u001b[0m\u001b[1;33m\u001b[0m\u001b[1;33m\u001b[0m\u001b[0m\n\u001b[0;32m      4\u001b[0m \u001b[1;33m\u001b[0m\u001b[0m\n\u001b[0;32m      5\u001b[0m \u001b[1;32mimport\u001b[0m \u001b[0mnumpy\u001b[0m \u001b[1;32mas\u001b[0m \u001b[0mnp\u001b[0m\u001b[1;33m\u001b[0m\u001b[1;33m\u001b[0m\u001b[0m\n",
      "\u001b[1;31mImportError\u001b[0m: cannot import name 'findInstalledSimToolNotebooks' from 'simtool' (unknown location)"
     ]
    }
   ],
   "metadata": {}
  },
  {
   "cell_type": "code",
   "execution_count": null,
   "source": [
    "#Takes inputs and shifting amount for cipher\r\n",
    "#inputs = getSimToolInputs(simToolLocation)\r\n",
    "# inputs   \r\n",
    "arr = (input(\"Enter the values with spaces between them: \"))\r\n",
    "values = input(\"Enter message: \")\r\n",
    "shift = input(\"Enter shift amount: \")\r\n",
    "most = \"\"\r\n",
    "mos = 0"
   ],
   "outputs": [],
   "metadata": {}
  },
  {
   "cell_type": "code",
   "execution_count": null,
   "source": [
    "def ciph(msg, amt):\r\n",
    "    list1 = \"\"\r\n",
    "    for letter in list(msg):\r\n",
    "        uni = (ord(letter)) + int(amt)\r\n",
    "        while uni < ord(\"a\"):\r\n",
    "            uni += 26\r\n",
    "        while uni > ord(\"z\"):\r\n",
    "            uni -= 26\r\n",
    "        list1 += chr(uni)\r\n",
    "    return \"\".join(list1)"
   ],
   "outputs": [],
   "metadata": {}
  },
  {
   "cell_type": "code",
   "execution_count": null,
   "source": [
    "def most_common(word): #Most common letters in the word\r\n",
    "    spli = list(word)   #splits input into char array\r\n",
    "    maxi = 0           #max value \r\n",
    "    dictionary = {}\r\n",
    "    \r\n",
    "    #creates a dictionary with the amount of times each letter is used\r\n",
    "    for first in spli: \r\n",
    "        count = 0\r\n",
    "        dictionary[first] = 0\r\n",
    "        for second in spli: \r\n",
    "            if second == first:\r\n",
    "                dictionary[second] += 1\r\n",
    "    \r\n",
    "    #finds the most used letter(s) in dictionary and how many times it is used.\r\n",
    "    most = max(dictionary, key=dictionary.get)\r\n",
    "    maxi = dictionary[most]\r\n",
    "    del dictionary[most]\r\n",
    "    while maxi == dictionary[max(dictionary, key=dictionary.get)]:\r\n",
    "        most2 = max(dictionary, key=dictionary.get)\r\n",
    "        most += \", \" + most2\r\n",
    "        del dictionary[most2]\r\n",
    "        \r\n",
    "    return (most, maxi) "
   ],
   "outputs": [],
   "metadata": {}
  },
  {
   "cell_type": "code",
   "execution_count": null,
   "source": [
    "def string_to_machine(inarray):\r\n",
    "    array1 = numpy.array(array(inarray.split()))\r\n",
    "    array_as_bytes = array1.tobytes()\r\n",
    "    print('Bit Values', binascii.hexlify(array_as_bytes))"
   ],
   "outputs": [],
   "metadata": {}
  },
  {
   "cell_type": "code",
   "execution_count": null,
   "source": [
    "#cool turtle stuff\r\n",
    "t = turtle.Pen()\r\n",
    "t.speed(0)\r\n",
    "t.pencolor(\"red\")\r\n",
    "for x in range(100):\r\n",
    "    t.forward(2*x)\r\n",
    "    t.left(91)\r\n"
   ],
   "outputs": [],
   "metadata": {}
  },
  {
   "cell_type": "code",
   "execution_count": null,
   "source": [
    "#Main\r\n",
    "print(ciph(values, shift))\r\n",
    "(most, maxi) = most_common(values)\r\n",
    "print(\"Most common letter(s) in input: %s is used %d times\" % (most, maxi))  \r\n",
    "string_to_machine(arr)\r\n"
   ],
   "outputs": [],
   "metadata": {
    "scrolled": true
   }
  },
  {
   "cell_type": "code",
   "execution_count": null,
   "source": [
    "#Get outputs\r\n",
    "#getSimToolOutputs(simToolLocation)"
   ],
   "outputs": [],
   "metadata": {}
  },
  {
   "cell_type": "markdown",
   "source": [
    "%%yaml OUTPUTS\r\n",
    "Cipher:\r\n",
    "    type: string\r\n",
    "    restrictions: alpha\r\n",
    "    lowercase alphabetical letters\r\n",
    "    \r\n",
    "Repeated Chars:\r\n",
    "    type: string\r\n",
    "    description: string of character(s) that are most used in the original input\r\n",
    "    \r\n",
    "Repeated Chars Count:\r\n",
    "    type: int\r\n",
    "    description: integer that shows the most amount of times a character appeared in input\r\n",
    "\r\n",
    "Machine values:\r\n",
    "    type: bytes\r\n",
    "    description: An array interpreted as machine values"
   ],
   "metadata": {}
  }
 ],
 "metadata": {
  "kernelspec": {
   "name": "python3",
   "display_name": "Python 3.9.7 64-bit"
  },
  "language_info": {
   "codemirror_mode": {
    "name": "ipython",
    "version": 3
   },
   "file_extension": ".py",
   "mimetype": "text/x-python",
   "name": "python",
   "nbconvert_exporter": "python",
   "pygments_lexer": "ipython3",
   "version": "3.9.7"
  },
  "interpreter": {
   "hash": "2a3af49cc217b5f7b715ca7049402850e4e09e122de2cf72bd1f6a93892fb558"
  }
 },
 "nbformat": 4,
 "nbformat_minor": 2
}
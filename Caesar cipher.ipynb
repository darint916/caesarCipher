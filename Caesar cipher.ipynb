{
 "cells": [
  {
   "cell_type": "markdown",
   "source": [
    "Caesar Cipher\n",
    "values:\n",
    "    type: string\n",
    "    min_length:1\n",
    "    restrictions:alpha\n",
    "    description: lowercase string that is going to be encoded\n",
    "        \n",
    "shift input:\n",
    "    type: integer\n",
    "    min: N/A    \n",
    "    max: N/A    \n",
    "    description: integer that determines the shift amount for encoding\n",
    "    \n",
    "cipher output:\n",
    "    type: string\n",
    "    restrictions: alpha\n",
    "    lowercase alphabetical letters\n",
    "    \n",
    "most_common output(1):\n",
    "    type: string\n",
    "    description: string of character(s) that are most used in the original input\n",
    "    \n",
    "most_common output(2):\n",
    "    type: int\n",
    "    description: integer that shows the most amount of times a character appeared in input"
   ],
   "metadata": {}
  },
  {
   "cell_type": "code",
   "execution_count": 1,
   "source": [
    "#Takes inputs and shifting amount for cipher\r\n",
    "values = input(\"Enter message: \")\r\n",
    "shift = input(\"Enter shift amount: \")\r\n",
    "most = \"\"\r\n",
    "mos = 0\r\n",
    "hi = 1\r\n"
   ],
   "outputs": [
    {
     "output_type": "stream",
     "name": "stdout",
     "text": [
      "Enter message: aabbccd\n",
      "Enter shift amount: 12\n"
     ]
    }
   ],
   "metadata": {}
  },
  {
   "cell_type": "code",
   "execution_count": 2,
   "source": [
    "def ciph(msg, amt):\r\n",
    "    list1 = \"\"\r\n",
    "    for letter in list(msg):\r\n",
    "        uni = (ord(letter)) + int(amt)\r\n",
    "        while uni < ord(\"a\"):\r\n",
    "            uni += 26\r\n",
    "        while uni > ord(\"z\"):\r\n",
    "            uni -= 26\r\n",
    "        list1 += chr(uni)\r\n",
    "    return \"\".join(list1)"
   ],
   "outputs": [],
   "metadata": {}
  },
  {
   "cell_type": "code",
   "execution_count": 3,
   "source": [
    "def most_common(word): #Most common letters in the word\r\n",
    "    spli = list(word)   #splits input into char array\r\n",
    "    maxi = 0           #max value \r\n",
    "    dictionary = {}\r\n",
    "    \r\n",
    "    #creates a dictionary with the amount of times each letter is used\r\n",
    "    for first in spli: \r\n",
    "        count = 0\r\n",
    "        dictionary[first] = 0\r\n",
    "        for second in spli: \r\n",
    "            if second == first:\r\n",
    "                dictionary[second] += 1\r\n",
    "    \r\n",
    "    #finds the most used letter(s) in dictionary and how many times it is used.\r\n",
    "    most = max(dictionary, key=dictionary.get)\r\n",
    "    maxi = dictionary[most]\r\n",
    "    del dictionary[most]\r\n",
    "    while maxi == dictionary[max(dictionary, key=dictionary.get)]:\r\n",
    "        most2 = max(dictionary, key=dictionary.get)\r\n",
    "        most += \", \" + most2\r\n",
    "        del dictionary[most2]\r\n",
    "        \r\n",
    "    return (most, maxi) "
   ],
   "outputs": [],
   "metadata": {}
  },
  {
   "cell_type": "code",
   "execution_count": 4,
   "source": [
    "print(ciph(values, shift))\r\n",
    "(most, maxi) = most_common(values)\r\n",
    "print(\"Most common letter(s) in input: %s is used %d times\" % (most, maxi))  "
   ],
   "outputs": [
    {
     "output_type": "stream",
     "name": "stdout",
     "text": [
      "mmnnoop\n",
      "Most common letter(s) in input: a, b, c is used 2 times\n"
     ]
    }
   ],
   "metadata": {
    "scrolled": true
   }
  },
  {
   "cell_type": "code",
   "execution_count": null,
   "source": [],
   "outputs": [],
   "metadata": {}
  },
  {
   "cell_type": "code",
   "execution_count": null,
   "source": [],
   "outputs": [],
   "metadata": {}
  }
 ],
 "metadata": {
  "kernelspec": {
   "display_name": "Python 3",
   "language": "python",
   "name": "python3"
  },
  "language_info": {
   "codemirror_mode": {
    "name": "ipython",
    "version": 3
   },
   "file_extension": ".py",
   "mimetype": "text/x-python",
   "name": "python",
   "nbconvert_exporter": "python",
   "pygments_lexer": "ipython3",
   "version": "3.7.7"
  }
 },
 "nbformat": 4,
 "nbformat_minor": 2
}
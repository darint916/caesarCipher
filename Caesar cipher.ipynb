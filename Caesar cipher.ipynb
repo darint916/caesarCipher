{
 "cells": [
  {
   "cell_type": "markdown",
   "source": [
    "Caesar Cipher\r\n",
    "%%yaml INPUTS\r\n",
    "values:\r\n",
    "    type: string\r\n",
    "    min_length:1\r\n",
    "    restrictions:alpha\r\n",
    "    description: lowercase string that is going to be encoded\r\n",
    "        \r\n",
    "shift input:\r\n",
    "    type: integer\r\n",
    "    description: integer that determines the shift amount for encoding\r\n",
    "    \r\n"
   ],
   "metadata": {}
  },
  {
   "cell_type": "code",
   "execution_count": 10,
   "source": [
    "#Takes inputs and shifting amount for cipher\r\n",
    "\r\n",
    "    \r\n",
    "\r\n",
    "values = input(\"Enter message: \")\r\n",
    "shift = input(\"Enter shift amount: \")\r\n",
    "most = \"\"\r\n",
    "mos = 0"
   ],
   "outputs": [],
   "metadata": {}
  },
  {
   "cell_type": "code",
   "execution_count": 11,
   "source": [
    "def ciph(msg, amt):\r\n",
    "    list1 = \"\"\r\n",
    "    for letter in list(msg):\r\n",
    "        uni = (ord(letter)) + int(amt)\r\n",
    "        while uni < ord(\"a\"):\r\n",
    "            uni += 26\r\n",
    "        while uni > ord(\"z\"):\r\n",
    "            uni -= 26\r\n",
    "        list1 += chr(uni)\r\n",
    "    return \"\".join(list1)"
   ],
   "outputs": [],
   "metadata": {}
  },
  {
   "cell_type": "code",
   "execution_count": 12,
   "source": [
    "def most_common(word): #Most common letters in the word\r\n",
    "    spli = list(word)   #splits input into char array\r\n",
    "    maxi = 0           #max value \r\n",
    "    dictionary = {}\r\n",
    "    \r\n",
    "    #creates a dictionary with the amount of times each letter is used\r\n",
    "    for first in spli: \r\n",
    "        count = 0\r\n",
    "        dictionary[first] = 0\r\n",
    "        for second in spli: \r\n",
    "            if second == first:\r\n",
    "                dictionary[second] += 1\r\n",
    "    \r\n",
    "    #finds the most used letter(s) in dictionary and how many times it is used.\r\n",
    "    most = max(dictionary, key=dictionary.get)\r\n",
    "    maxi = dictionary[most]\r\n",
    "    del dictionary[most]\r\n",
    "    while maxi == dictionary[max(dictionary, key=dictionary.get)]:\r\n",
    "        most2 = max(dictionary, key=dictionary.get)\r\n",
    "        most += \", \" + most2\r\n",
    "        del dictionary[most2]\r\n",
    "        \r\n",
    "    return (most, maxi) "
   ],
   "outputs": [],
   "metadata": {}
  },
  {
   "cell_type": "code",
   "execution_count": 13,
   "source": [
    "print(ciph(values, shift))\r\n",
    "(most, maxi) = most_common(values)\r\n",
    "print(\"Most common letter(s) in input: %s is used %d times\" % (most, maxi))  \r\n",
    "\r\n",
    "#funny spiral\r\n"
   ],
   "outputs": [
    {
     "output_type": "stream",
     "name": "stdout",
     "text": [
      "sbwkrrrrrq\n",
      "Most common letter(s) in input: o is used 5 times\n"
     ]
    }
   ],
   "metadata": {
    "scrolled": true
   }
  },
  {
   "cell_type": "markdown",
   "source": [
    "%%yaml OUTPUTS\r\n",
    "Cipher:\r\n",
    "    type: string\r\n",
    "    restrictions: alpha\r\n",
    "    lowercase alphabetical letters\r\n",
    "    \r\n",
    "Repeated Chars:\r\n",
    "    type: string\r\n",
    "    description: string of character(s) that are most used in the original input\r\n",
    "    \r\n",
    "Repeated Chars Count:\r\n",
    "    type: int\r\n",
    "    description: integer that shows the most amount of times a character appeared in input"
   ],
   "metadata": {}
  },
  {
   "cell_type": "code",
   "execution_count": null,
   "source": [],
   "outputs": [],
   "metadata": {}
  }
 ],
 "metadata": {
  "kernelspec": {
   "name": "python3",
   "display_name": "Python 3.9.7 64-bit"
  },
  "language_info": {
   "codemirror_mode": {
    "name": "ipython",
    "version": 3
   },
   "file_extension": ".py",
   "mimetype": "text/x-python",
   "name": "python",
   "nbconvert_exporter": "python",
   "pygments_lexer": "ipython3",
   "version": "3.9.7"
  },
  "interpreter": {
   "hash": "2a3af49cc217b5f7b715ca7049402850e4e09e122de2cf72bd1f6a93892fb558"
  }
 },
 "nbformat": 4,
 "nbformat_minor": 2
}
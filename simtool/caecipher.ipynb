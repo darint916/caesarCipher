{
 "cells": [
  {
   "cell_type": "code",
   "execution_count": null,
   "metadata": {},
   "outputs": [],
   "source": [
    "import math\n",
    "import simtool\n",
    "%load_ext yamlmagic"
   ]
  },
  {
   "cell_type": "code",
   "execution_count": null,
   "metadata": {},
   "outputs": [],
   "source": [
    "%%yaml INPUTS\n",
    "\n",
    "shift_input:\n",
    "    type : Integer\n",
    "    value : 16\n",
    "    description : integer that determines the shift amount for encoding\n",
    "\n",
    "values:\n",
    "    type :  Text\n",
    "    min_length : 1\n",
    "    value :  python\n",
    "    restrictions : alpha\n",
    "    description : lowercase string that is going to be encoded"
   ]
  },
  {
   "cell_type": "code",
   "execution_count": null,
   "metadata": {
    "tags": [
     "parameters"
    ]
   },
   "outputs": [],
   "source": [
    "parameters = simtool.getValidatedInputs(INPUTS)\n",
    "if parameters:\n",
    "    globals().update(parameters)"
   ]
  },
  {
   "cell_type": "code",
   "execution_count": null,
   "metadata": {},
   "outputs": [],
   "source": [
    "%%yaml OUTPUTS\n",
    "\n",
    "Cipher:\n",
    "    type : Text\n",
    "    restrictions : alpha\n",
    "    description : lowercase alphabetical letters\n",
    "    \n",
    "Repeated Chars:\n",
    "    type : Text\n",
    "    description : string of character(s) that are most used in the original input\n",
    "    \n",
    "Repeated Chars Count:\n",
    "    type : Integer\n",
    "    description : integer that shows the most amount of times a character appeared in input\n"
   ]
  },
  {
   "cell_type": "code",
   "execution_count": null,
   "metadata": {},
   "outputs": [],
   "source": [
    "db = simtool.DB(OUTPUTS)"
   ]
  },
  {
   "cell_type": "code",
   "execution_count": null,
   "metadata": {},
   "outputs": [],
   "source": [
    "def ciph(msg, amt):\n",
    "    list1 = \"\"\n",
    "    msg = msg.lower()\n",
    "    for letter in list(msg):\n",
    "        if letter.isalpha():\n",
    "            uni = (ord(letter)) + int(amt)\n",
    "            while uni < ord(\"a\"):\n",
    "                uni += 26\n",
    "            while uni > ord(\"z\"):\n",
    "                uni -= 26\n",
    "            list1 += chr(uni)\n",
    "        else:\n",
    "            list1 += letter\n",
    "        \n",
    "    return \"\".join(list1)"
   ]
  },
  {
   "cell_type": "code",
   "execution_count": null,
   "metadata": {},
   "outputs": [],
   "source": [
    "def most_common(word): #Most common letters in the word\n",
    "    spli = list(word)   #splits input into char array\n",
    "    maxi = 0           #max value \n",
    "    dictionary = {}\n",
    "    \n",
    "    #creates a dictionary with the amount of times each letter is used\n",
    "    for first in spli: \n",
    "        count = 0\n",
    "        dictionary[first] = 0\n",
    "        for second in spli: \n",
    "            if second == first:\n",
    "                dictionary[second] += 1\n",
    "    \n",
    "    del dictionary[\" \"]\n",
    "    #finds the most used letter(s) in dictionary and how many times it is used.\n",
    "    most = max(dictionary, key=dictionary.get)\n",
    "    maxi = dictionary[most]\n",
    "    del dictionary[most]\n",
    "    try:\n",
    "        while maxi == dictionary[max(dictionary, key=dictionary.get)]:\n",
    "            most2 = max(dictionary, key=dictionary.get)\n",
    "            most += \", \" + most2\n",
    "            del dictionary[most2]\n",
    "    except ValueError:\n",
    "            return(\"N/A\", 0)\n",
    "        \n",
    "    return (most, maxi) "
   ]
  },
  {
   "cell_type": "code",
   "execution_count": null,
   "metadata": {
    "scrolled": true
   },
   "outputs": [],
   "source": [
    "ciph_msg = ciph(values, shift_input)\n",
    "db.save('Cipher', ciph_msg)\n",
    "#Saves the cipher\n",
    "\n",
    "(most, maxi) = most_common(values)\n",
    "db.save('Repeated Chars', most)\n",
    "#Saves most used characters\n",
    "db.save('Repeated Chars Count', maxi)\n",
    "#Saves amount of usage in most used characters"
   ]
  }
 ],
 "metadata": {
  "celltoolbar": "Tags",
  "kernelspec": {
   "display_name": "Python 3",
   "language": "python",
   "name": "python3"
  },
  "language_info": {
   "codemirror_mode": {
    "name": "ipython",
    "version": 3
   },
   "file_extension": ".py",
   "mimetype": "text/x-python",
   "name": "python",
   "nbconvert_exporter": "python",
   "pygments_lexer": "ipython3",
   "version": "3.7.7"
  }
 },
 "nbformat": 4,
 "nbformat_minor": 2
}

{
 "cells": [
  {
   "cell_type": "markdown",
   "metadata": {},
   "source": [
    "Caesar Cipher\n",
    "values:\n",
    "    type: string\n",
    "    min_length:1\n",
    "    restrictions:alpha\n",
    "    description: lowercase string that is going to be encoded\n",
    "        \n",
    "shift input:\n",
    "    type: integer\n",
    "    min: N/A    \n",
    "    max: N/A    \n",
    "    description: integer that determines the shift amount for encoding\n",
    "    \n",
    "cipher output:\n",
    "    type: string\n",
    "    restrictions: alpha\n",
    "    lowercase alphabetical letters\n",
    "    \n",
    "most_common output(1):\n",
    "    type: string\n",
    "    description: string of character(s) that are most used in the original input\n",
    "    \n",
    "most_common output(2):\n",
    "    type: int\n",
    "    description: integer that shows the most amount of times a character appeared in input"
   ]
  },
  {
   "cell_type": "code",
   "execution_count": 1,
   "metadata": {},
   "outputs": [
    {
     "name": "stdout",
     "output_type": "stream",
     "text": [
      "Enter message: aabbccd\n",
      "Enter shift amount: 12\n"
     ]
    }
   ],
   "source": [
    "#Takes inputs and shifting amount for cipher\n",
    "values = input(\"Enter message: \")\n",
    "shift = input(\"Enter shift amount: \")\n",
    "most = \"\"\n",
    "mos = 0"
   ]
  },
  {
   "cell_type": "code",
   "execution_count": 2,
   "metadata": {},
   "outputs": [],
   "source": [
    "def ciph(msg, amt):\n",
    "    list1 = \"\"\n",
    "    for letter in list(msg):\n",
    "        uni = (ord(letter)) + int(amt)\n",
    "        while uni < ord(\"a\"):\n",
    "            uni += 26\n",
    "        while uni > ord(\"z\"):\n",
    "            uni -= 26\n",
    "        list1 += chr(uni)\n",
    "    return \"\".join(list1)"
   ]
  },
  {
   "cell_type": "code",
   "execution_count": 3,
   "metadata": {},
   "outputs": [],
   "source": [
    "def most_common(word): #Most common letters in the word\n",
    "    spli = list(word)   #splits input into char array\n",
    "    maxi = 0           #max value \n",
    "    dictionary = {}\n",
    "    \n",
    "    #creates a dictionary with the amount of times each letter is used\n",
    "    for first in spli: \n",
    "        count = 0\n",
    "        dictionary[first] = 0\n",
    "        for second in spli: \n",
    "            if second == first:\n",
    "                dictionary[second] += 1\n",
    "    \n",
    "    #finds the most used letter(s) in dictionary and how many times it is used.\n",
    "    most = max(dictionary, key=dictionary.get)\n",
    "    maxi = dictionary[most]\n",
    "    del dictionary[most]\n",
    "    while maxi == dictionary[max(dictionary, key=dictionary.get)]:\n",
    "        most2 = max(dictionary, key=dictionary.get)\n",
    "        most += \", \" + most2\n",
    "        del dictionary[most2]\n",
    "        \n",
    "    return (most, maxi) "
   ]
  },
  {
   "cell_type": "code",
   "execution_count": 4,
   "metadata": {
    "scrolled": true
   },
   "outputs": [
    {
     "name": "stdout",
     "output_type": "stream",
     "text": [
      "mmnnoop\n",
      "Most common letter(s) in input: a, b, c is used 2 times\n"
     ]
    }
   ],
   "source": [
    "print(ciph(values, shift))\n",
    "(most, maxi) = most_common(values)\n",
    "print(\"Most common letter(s) in input: %s is used %d times\" % (most, maxi))  "
   ]
  },
  {
   "cell_type": "code",
   "execution_count": null,
   "metadata": {},
   "outputs": [],
   "source": []
  },
  {
   "cell_type": "code",
   "execution_count": null,
   "metadata": {},
   "outputs": [],
   "source": []
  }
 ],
 "metadata": {
  "kernelspec": {
   "display_name": "Python 3",
   "language": "python",
   "name": "python3"
  },
  "language_info": {
   "codemirror_mode": {
    "name": "ipython",
    "version": 3
   },
   "file_extension": ".py",
   "mimetype": "text/x-python",
   "name": "python",
   "nbconvert_exporter": "python",
   "pygments_lexer": "ipython3",
   "version": "3.7.7"
  }
 },
 "nbformat": 4,
 "nbformat_minor": 2
}

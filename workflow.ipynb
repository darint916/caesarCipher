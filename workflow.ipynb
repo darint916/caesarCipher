{
 "cells": [
  {
   "cell_type": "code",
   "execution_count": 1,
   "metadata": {},
   "outputs": [],
   "source": [
    "import simtool as st\n",
    "import ipywidgets as w"
   ]
  },
  {
   "cell_type": "code",
   "execution_count": 2,
   "metadata": {},
   "outputs": [],
   "source": [
    "simToolName = \"vip2021_Caesar cipher\""
   ]
  },
  {
   "cell_type": "code",
   "execution_count": 3,
   "metadata": {},
   "outputs": [],
   "source": [
    "# get the list of inputs for the simtool.\n",
    "nb = st.utils.searchForSimTool(simToolName)\n",
    "#nb"
   ]
  },
  {
   "cell_type": "code",
   "execution_count": 4,
   "metadata": {},
   "outputs": [],
   "source": [
    "inputs = st.utils.getSimToolInputs(nb)\n",
    "#inputs"
   ]
  },
  {
   "cell_type": "code",
   "execution_count": 5,
   "metadata": {},
   "outputs": [],
   "source": [
    "outputs = st.utils.getSimToolOutputs(nb)"
   ]
  },
  {
   "cell_type": "code",
   "execution_count": 6,
   "metadata": {},
   "outputs": [],
   "source": [
    "#inputs.point1X.value = 20\n",
    "#inputs.point1X.value = 9"
   ]
  },
  {
   "cell_type": "code",
   "execution_count": 7,
   "metadata": {},
   "outputs": [
    {
     "name": "stdout",
     "output_type": "stream",
     "text": [
      "runname   = 88374f469d58444fae22206650de6594\n",
      "outdir    = RUNS/88374f469d58444fae22206650de6594\n",
      "cached    = False\n",
      "submit --local papermill -f inputs.yaml\n",
      "       /home/nanohub/zhan4096/simtool/vip2021_Caesar cipher.ipynb vip2021_Caesar\n",
      "       cipher.ipynb\n"
     ]
    },
    {
     "name": "stderr",
     "output_type": "stream",
     "text": [
      "Input Notebook:  /home/nanohub/zhan4096/simtool/vip2021_Caesar cipher.ipynb\n",
      "Output Notebook: vip2021_Caesar cipher.ipynb\n",
      "Input notebook does not contain a cell with tag 'parameters'\n",
      "Executing: 100%|██████████| 10/10 [00:06<00:00,  1.51cell/s]\n"
     ]
    }
   ],
   "source": [
    "r = st.Run(nb, inputs)"
   ]
  },
  {
   "cell_type": "code",
   "execution_count": 8,
   "metadata": {},
   "outputs": [],
   "source": [
    "chars1 = r.read('Repeated Chars')\n",
    "chars2 = r.read('Repeated Chars Count')\n",
    "chars3 = r.read('Cipher')\n"
   ]
  },
  {
   "cell_type": "code",
   "execution_count": 9,
   "metadata": {},
   "outputs": [],
   "source": [
    "def processedInput (shift, val, out):\n",
    "    inputs.shift_input.value = shift\n",
    "    inputs.values.value = val\n",
    "    r = st.Run(nb, inputs)\n",
    "    return (r.read(out))"
   ]
  },
  {
   "cell_type": "code",
   "execution_count": 10,
   "metadata": {
    "scrolled": false
   },
   "outputs": [
    {
     "data": {
      "application/vnd.jupyter.widget-view+json": {
       "model_id": "5f174e08b0664055bb1986daf7aed91d",
       "version_major": 2,
       "version_minor": 0
      },
      "text/plain": [
       "interactive(children=(IntSlider(value=16, description='shift', max=48, min=-16), Text(value='python', descript…"
      ]
     },
     "metadata": {},
     "output_type": "display_data"
    }
   ],
   "source": [
    "w.interact(\n",
    "    processedInput, \n",
    "    shift = inputs.shift_input.value, \n",
    "    val = inputs.values.value,\n",
    "    out = w.fixed('Repeated Chars')\n",
    ");"
   ]
  },
  {
   "cell_type": "code",
   "execution_count": 12,
   "metadata": {},
   "outputs": [
    {
     "data": {
      "application/vnd.jupyter.widget-view+json": {
       "model_id": "888ed255dd1b429d92427f32744cafdf",
       "version_major": 2,
       "version_minor": 0
      },
      "text/plain": [
       "interactive(children=(IntSlider(value=16, continuous_update=False, description='shift', max=30, min=-30), Text…"
      ]
     },
     "metadata": {},
     "output_type": "display_data"
    }
   ],
   "source": [
    "w.interact(\n",
    "    processedInput, \n",
    "    val = w.Textarea(value=\"Enter the word you want to shift\"),\n",
    "    shift = w.IntSlider(min=-30, max=30, step=1, value=inputs.shift_input.value, continuous_update=False),\n",
    "    out = w.Dropdown(options=outputs.keys())\n",
    ");"
   ]
  },
  {
   "cell_type": "code",
   "execution_count": null,
   "metadata": {},
   "outputs": [],
   "source": []
  },
  {
   "cell_type": "code",
   "execution_count": null,
   "metadata": {},
   "outputs": [],
   "source": []
  }
 ],
 "metadata": {
  "interpreter": {
   "hash": "2a3af49cc217b5f7b715ca7049402850e4e09e122de2cf72bd1f6a93892fb558"
  },
  "kernelspec": {
   "display_name": "Python 3",
   "language": "python",
   "name": "python3"
  },
  "language_info": {
   "codemirror_mode": {
    "name": "ipython",
    "version": 3
   },
   "file_extension": ".py",
   "mimetype": "text/x-python",
   "name": "python",
   "nbconvert_exporter": "python",
   "pygments_lexer": "ipython3",
   "version": "3.7.7"
  }
 },
 "nbformat": 4,
 "nbformat_minor": 2
}

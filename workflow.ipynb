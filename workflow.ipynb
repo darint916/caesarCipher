{
 "cells": [
  {
   "cell_type": "code",
   "execution_count": null,
   "metadata": {},
   "outputs": [],
   "source": [
    "import simtool as st\n",
    "import ipywidgets as w"
   ]
  },
  {
   "cell_type": "code",
   "execution_count": null,
   "metadata": {},
   "outputs": [],
   "source": [
    "simToolName = \"caecipher\""
   ]
  },
  {
   "cell_type": "code",
   "execution_count": null,
   "metadata": {},
   "outputs": [],
   "source": [
    "# get the list of inputs for the simtool.\n",
    "nb = st.searchForSimTool(simToolName)\n",
    "#nb"
   ]
  },
  {
   "cell_type": "code",
   "execution_count": null,
   "metadata": {},
   "outputs": [],
   "source": [
    "inputs = st.getSimToolInputs(nb)\n",
    "#inputs"
   ]
  },
  {
   "cell_type": "code",
   "execution_count": null,
   "metadata": {},
   "outputs": [],
   "source": [
    "outputs = st.getSimToolOutputs(nb)"
   ]
  },
  {
   "cell_type": "code",
   "execution_count": null,
   "metadata": {},
   "outputs": [],
   "source": [
    "r = st.Run(nb, inputs)"
   ]
  },
  {
   "cell_type": "code",
   "execution_count": null,
   "metadata": {},
   "outputs": [],
   "source": [
    "chars1 = r.read('Repeated Chars')\n",
    "chars2 = r.read('Repeated Chars Count')\n",
    "chars3 = r.read('Cipher')\n"
   ]
  },
  {
   "cell_type": "code",
   "execution_count": null,
   "metadata": {},
   "outputs": [],
   "source": [
    "def processedInput (shift, val, out):\n",
    "    inputs.shift_input.value = shift\n",
    "    inputs.values.value = val\n",
    "    r = st.Run(nb, inputs)\n",
    "    return (r.read(out))"
   ]
  },
  {
   "cell_type": "code",
   "execution_count": null,
   "metadata": {},
   "outputs": [],
   "source": [
    "w.interact(\n",
    "    processedInput, \n",
    "    val = w.Textarea(value=\"Enter the word you want to shift\"),\n",
    "    shift = w.IntText(value=inputs.shift_input.value, description=inputs.shift_input.description, disabled=False),\n",
    "    out = w.Dropdown(options=outputs.keys())\n",
    ");"
   ]
  },
  {
   "cell_type": "code",
   "execution_count": null,
   "metadata": {},
   "outputs": [],
   "source": []
  },
  {
   "cell_type": "code",
   "execution_count": null,
   "metadata": {},
   "outputs": [],
   "source": []
  }
 ],
 "metadata": {
  "interpreter": {
   "hash": "2a3af49cc217b5f7b715ca7049402850e4e09e122de2cf72bd1f6a93892fb558"
  },
  "kernelspec": {
   "display_name": "Python 3",
   "language": "python",
   "name": "python3"
  },
  "language_info": {
   "codemirror_mode": {
    "name": "ipython",
    "version": 3
   },
   "file_extension": ".py",
   "mimetype": "text/x-python",
   "name": "python",
   "nbconvert_exporter": "python",
   "pygments_lexer": "ipython3",
   "version": "3.7.7"
  }
 },
 "nbformat": 4,
 "nbformat_minor": 2
}

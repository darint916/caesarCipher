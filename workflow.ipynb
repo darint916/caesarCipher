{
 "cells": [
  {
   "cell_type": "code",
   "execution_count": 1,
   "metadata": {},
   "outputs": [],
   "source": [
    "import simtool as st\n",
    "import ipywidgets as w"
   ]
  },
  {
   "cell_type": "code",
   "execution_count": 2,
   "metadata": {},
   "outputs": [],
   "source": [
    "simToolName = \"caecipher\""
   ]
  },
  {
   "cell_type": "code",
   "execution_count": 3,
   "metadata": {},
   "outputs": [],
   "source": [
    "# get the list of inputs for the simtool.\n",
    "nb = st.searchForSimTool(simToolName)\n",
    "#nb"
   ]
  },
  {
   "cell_type": "code",
   "execution_count": 4,
   "metadata": {},
   "outputs": [],
   "source": [
    "inputs = st.getSimToolInputs(nb)\n",
    "#inputs"
   ]
  },
  {
   "cell_type": "code",
   "execution_count": 5,
   "metadata": {},
   "outputs": [],
   "source": [
    "outputs = st.getSimToolOutputs(nb)"
   ]
  },
  {
   "cell_type": "code",
   "execution_count": 6,
   "metadata": {},
   "outputs": [
    {
     "name": "stdout",
     "output_type": "stream",
     "text": [
      "runname   = 0d6b0aa166f1405984f3d175ff9ad593\n",
      "outdir    = RUNS/0d6b0aa166f1405984f3d175ff9ad593\n",
      "cached    = False\n",
      "submit --local papermill -f inputs.yaml\n",
      "       /home/nanohub/darint916/simtool/caecipher.ipynb caecipher.ipynb\n"
     ]
    },
    {
     "name": "stderr",
     "output_type": "stream",
     "text": [
      "Input Notebook:  /home/nanohub/darint916/simtool/caecipher.ipynb\n",
      "Output Notebook: caecipher.ipynb\n",
      "Executing: 100%|██████████| 9/9 [00:05<00:00,  1.61cell/s]\n"
     ]
    }
   ],
   "source": [
    "r = st.Run(nb, inputs)"
   ]
  },
  {
   "cell_type": "code",
   "execution_count": 7,
   "metadata": {},
   "outputs": [],
   "source": [
    "def processedInput (shift, val, out):\n",
    "    inputs.shift_input.value = shift\n",
    "    inputs.values.value = val\n",
    "    r = st.Run(nb, inputs)\n",
    "    return (r.read(out))"
   ]
  },
  {
   "cell_type": "code",
   "execution_count": 8,
   "metadata": {
    "scrolled": true
   },
   "outputs": [
    {
     "data": {
      "application/vnd.jupyter.widget-view+json": {
       "model_id": "095cb078f4c6412fbddd015abe6da29c",
       "version_major": 2,
       "version_minor": 0
      },
      "text/plain": [
       "interactive(children=(IntText(value=16, description='integer that determines the shift amount for encoding'), …"
      ]
     },
     "metadata": {},
     "output_type": "display_data"
    }
   ],
   "source": [
    "w.interact(\n",
    "    processedInput, \n",
    "    val = w.Textarea(value=\"Enter the word you want to shift\", continuous_update=False),\n",
    "    shift = w.IntText(value=inputs.shift_input.value, description=inputs.shift_input.description, disabled=False, continuous_update=False),\n",
    "    out = w.Dropdown(options=outputs.keys())\n",
    ");"
   ]
  }
 ],
 "metadata": {
  "interpreter": {
   "hash": "2a3af49cc217b5f7b715ca7049402850e4e09e122de2cf72bd1f6a93892fb558"
  },
  "kernelspec": {
   "display_name": "Python 3",
   "language": "python",
   "name": "python3"
  },
  "language_info": {
   "codemirror_mode": {
    "name": "ipython",
    "version": 3
   },
   "file_extension": ".py",
   "mimetype": "text/x-python",
   "name": "python",
   "nbconvert_exporter": "python",
   "pygments_lexer": "ipython3",
   "version": "3.7.7"
  }
 },
 "nbformat": 4,
 "nbformat_minor": 2
}

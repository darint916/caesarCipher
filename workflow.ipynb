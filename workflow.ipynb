{
 "cells": [
  {
   "cell_type": "code",
   "execution_count": null,
   "metadata": {},
   "outputs": [],
   "source": [
    "import simtool as st\n",
    "import ipywidgets as w\n",
    "import plotly.graph_objects as go\n",
    "import random"
   ]
  },
  {
   "cell_type": "code",
   "execution_count": null,
   "metadata": {},
   "outputs": [],
   "source": [
    "simToolName = \"caecipher\""
   ]
  },
  {
   "cell_type": "code",
   "execution_count": null,
   "metadata": {},
   "outputs": [],
   "source": [
    "# get the list of inputs for the simtool.\n",
    "nb = st.searchForSimTool(simToolName)\n",
    "#nb"
   ]
  },
  {
   "cell_type": "code",
   "execution_count": null,
   "metadata": {},
   "outputs": [],
   "source": [
    "inputs = st.getSimToolInputs(nb)\n",
    "#inputs"
   ]
  },
  {
   "cell_type": "code",
   "execution_count": null,
   "metadata": {},
   "outputs": [],
   "source": [
    "outputs = st.getSimToolOutputs(nb)\n",
    "#outputs"
   ]
  },
  {
   "cell_type": "code",
   "execution_count": null,
   "metadata": {},
   "outputs": [],
   "source": [
    "button2 = w.Button(description = \"Guess the message\", style= {'description_width': 'initial'})\n",
    "button1 = w.Button(description = \"Restart the Game\", style= {'description_width': 'initial'})\n",
    "difficulty = w.Dropdown(value=\"Normal\", options=[\"Easier\",\"Easy\",\"Normal\",\"Hard\",\"Harder\"], description = \"Difficulty\", style= {'description_width': 'initial'})\n",
    "textfield0 = w.Password(\"\", placeholder=\"\", description = \"Target message\", disabled=True, style= {'description_width': 'initial'})\n",
    "textfield1 = w.Text(\"\", placeholder=\"\", description = \"Guess message\", style= {'description_width': 'initial'})\n",
    "textfield2 = w.Text(\"\", placeholder=\"\", description = \"Coded message\", disabled=True, style= {'description_width': 'initial'})\n",
    "repchars = w.Text(\"\", description=\"Repeated chars\", disabled=True, style= {'description_width': 'initial'})\n",
    "repcountchars = w.IntText(0, description=\"Number of repeated chars\", disabled=True, style= {'description_width': 'initial'})\n",
    "plot = go.FigureWidget(data=[{\n",
    "    'domain': { 'x': [0, 1], 'y': [0, 1] },\n",
    "    'value': 0,\n",
    "    'delta': { 'reference': 10 },\n",
    "    'title': { 'text': \"Points\" },\n",
    "    'type': \"indicator\",\n",
    "    'gauge': { 'axis': {'range' : [0,10] } },\n",
    "    'mode': \"gauge+number+delta\"\n",
    "}],layout={ 'margin': { 't': 0, 'b': 0, 'r': 0, 'l': 0 } })\n",
    "text = \"\"\n",
    "cypher = \"\"\n",
    "\n",
    "layout = w.HBox(layout=w.Layout(display='flex', width=\"800px\"))\n",
    "container1 = w.VBox(layout=w.Layout(width=\"50%\"))\n",
    "container2 = w.VBox(layout=w.Layout(width=\"50%\"))\n",
    "container1.children= [difficulty, button1]\n",
    "layout.children = [container1, container2]\n",
    "\n",
    "def resetGame ( event ):\n",
    "    container1.children= [difficulty, button1]\n",
    "    container2.children= []\n",
    "    \n",
    "    if difficulty.value == \"Easier\":\n",
    "        nw = 1\n",
    "    elif difficulty.value == \"Easy\":\n",
    "        nw = 2\n",
    "    elif difficulty.value == \"Hard\":\n",
    "        nw = 4\n",
    "    elif difficulty.value == \"Harder\":\n",
    "        nw = 5\n",
    "    else:\n",
    "        nw = 3\n",
    "    words = ['Animal', 'Dog', 'Cat', 'Queen', 'Bird', 'King', ]\n",
    "    val = \" \".join(random.sample(words, nw))\n",
    "    textfield0.value = val\n",
    "    textfield2.value = \"\"\n",
    "    textfield1.value = \"\"\n",
    "    shift = random.randint(1,26)\n",
    "    \n",
    "    inputs.shift_input.value = shift\n",
    "    inputs.values.value = val\n",
    "    \n",
    "    plot.data[0].delta.reference = len(val)\n",
    "    plot.data[0].gauge.axis.range = [0,len(val)]\n",
    "    plot.data[0].value = 0\n",
    "    plot.data[0].title.text = \"Try to guess the message\"\n",
    "    \n",
    "    r = st.Run(nb, inputs)\n",
    "    textfield2.value = r.read(\"Cipher\")\n",
    "    repchars.value = r.read(\"Repeated Chars\")\n",
    "    repcountchars.value = r.read(\"Repeated Chars Count\")\n",
    "    \n",
    "    container1.children= [difficulty, button1, textfield0, textfield2, repchars, repcountchars, textfield1, button2]\n",
    "    container2.children= [plot]\n",
    "  \n",
    "def guestMessage ( event ):\n",
    "    valtarget = textfield0.value.lower()\n",
    "    valguess = textfield1.value.lower()\n",
    "    points = 0\n",
    "    for i in range(len(valtarget)):\n",
    "        if i < len(valguess) and valtarget[i] == valguess[i]:\n",
    "            points += 1\n",
    "    plot.data[0].value = points\n",
    "    if points == len(valguess) and points == len(valtarget):\n",
    "        plot.data[0].title.text = \"You WON!!!!!!\"\n",
    "        textfield2.value = textfield0.value\n",
    "        container1.children= [difficulty, button1, textfield2]\n",
    "\n",
    "    else :\n",
    "        plot.data[0].title.text = \"Keep Trying ...\"\n",
    "\n",
    "display(layout)\n",
    "button1.on_click(resetGame)     \n",
    "button2.on_click(guestMessage)     \n",
    "button1.click()\n"
   ]
  },
  {
   "cell_type": "code",
   "execution_count": null,
   "metadata": {},
   "outputs": [],
   "source": []
  }
 ],
 "metadata": {
  "interpreter": {
   "hash": "2a3af49cc217b5f7b715ca7049402850e4e09e122de2cf72bd1f6a93892fb558"
  },
  "kernelspec": {
   "display_name": "Python 3",
   "language": "python",
   "name": "python3"
  },
  "language_info": {
   "codemirror_mode": {
    "name": "ipython",
    "version": 3
   },
   "file_extension": ".py",
   "mimetype": "text/x-python",
   "name": "python",
   "nbconvert_exporter": "python",
   "pygments_lexer": "ipython3",
   "version": "3.7.7"
  }
 },
 "nbformat": 4,
 "nbformat_minor": 2
}
